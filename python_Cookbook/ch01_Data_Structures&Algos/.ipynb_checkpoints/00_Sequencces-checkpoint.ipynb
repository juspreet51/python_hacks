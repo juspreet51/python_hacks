{
 "cells": [
  {
   "cell_type": "markdown",
   "id": "specialized-gender",
   "metadata": {},
   "source": [
    "# Tuple Unpacking"
   ]
  },
  {
   "cell_type": "code",
   "execution_count": 1,
   "id": "controversial-means",
   "metadata": {},
   "outputs": [
    {
     "name": "stdout",
     "output_type": "stream",
     "text": [
      "4,5\n"
     ]
    }
   ],
   "source": [
    "p = (4,5)\n",
    "x,y = p\n",
    "print(f\"{x},{y}\")"
   ]
  },
  {
   "cell_type": "code",
   "execution_count": 10,
   "id": "sitting-turner",
   "metadata": {},
   "outputs": [
    {
     "name": "stdout",
     "output_type": "stream",
     "text": [
      "Jaspreet Singh 25 Data Scientist Bangalore India (11, 2, 2021)\n"
     ]
    }
   ],
   "source": [
    "data = [\"Jaspreet Singh\", 25, \"Data Scientist\", \"Bangalore\", \"India\", (11,2,2021)]\n",
    "name, age, designation, city, country, date = data\n",
    "print(name, age, designation, city, country, date)"
   ]
  },
  {
   "cell_type": "code",
   "execution_count": 11,
   "id": "latter-being",
   "metadata": {},
   "outputs": [
    {
     "name": "stdout",
     "output_type": "stream",
     "text": [
      "Jaspreet Singh 25 Data Scientist Bangalore India 11 2 2021\n"
     ]
    }
   ],
   "source": [
    "data = [\"Jaspreet Singh\", 25, \"Data Scientist\", \"Bangalore\", \"India\", (11,2,2021)]\n",
    "name, age, designation, city, country, (day,month,year) = data\n",
    "print(name, age, designation, city, country, day, month, year)"
   ]
  },
  {
   "cell_type": "markdown",
   "id": "premium-luther",
   "metadata": {},
   "source": [
    "# Throwaway variables for values we wish to discard during unpacking"
   ]
  },
  {
   "cell_type": "code",
   "execution_count": 16,
   "id": "neural-structure",
   "metadata": {},
   "outputs": [
    {
     "data": {
      "text/plain": [
       "25"
      ]
     },
     "execution_count": 16,
     "metadata": {},
     "output_type": "execute_result"
    }
   ],
   "source": [
    "data = [\"Jaspreet Singh\", 25, \"Data Scientist\", \"Bangalore\", \"India\", (11,2,2021)]\n",
    "name, __, designation, city, _, _ = data\n",
    "__"
   ]
  },
  {
   "cell_type": "markdown",
   "id": "generous-classics",
   "metadata": {},
   "source": [
    "# Handling \"too many values to unpack\" error while dealing with iteratble of arbitary length\n",
    "- This is handled via python's \"star-expression\"\n",
    "```python\n",
    "def drop_first_last(string):\n",
    "    first, *middle, last = string\n",
    "    return avg(middle)\n",
    "```\n",
    "- Returns the average of all numbers, except first and last"
   ]
  },
  {
   "cell_type": "code",
   "execution_count": 21,
   "id": "african-andrews",
   "metadata": {},
   "outputs": [
    {
     "name": "stdout",
     "output_type": "stream",
     "text": [
      "Jaspreet Singh 25 (11, 2, 2021)\n",
      "['Data Scientist', 'Bangalore', 'India']\n"
     ]
    }
   ],
   "source": [
    "data = [\"Jaspreet Singh\", 25, \"Data Scientist\", \"Bangalore\", \"India\", (11,2,2021)]\n",
    "name, age, *others, date = data\n",
    "print(name, age, date)\n",
    "print(others)"
   ]
  }
 ],
 "metadata": {
  "kernelspec": {
   "display_name": "Python 3",
   "language": "python",
   "name": "python3"
  },
  "language_info": {
   "codemirror_mode": {
    "name": "ipython",
    "version": 3
   },
   "file_extension": ".py",
   "mimetype": "text/x-python",
   "name": "python",
   "nbconvert_exporter": "python",
   "pygments_lexer": "ipython3",
   "version": "3.8.5"
  }
 },
 "nbformat": 4,
 "nbformat_minor": 5
}

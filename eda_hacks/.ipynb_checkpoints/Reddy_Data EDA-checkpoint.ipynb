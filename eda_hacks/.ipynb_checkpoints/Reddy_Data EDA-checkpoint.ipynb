{
 "cells": [
  {
   "cell_type": "code",
   "execution_count": 2,
   "metadata": {},
   "outputs": [],
   "source": [
    "import pandas as pd\n",
    "import numpy as np\n",
    "import matplotlib as plt\n",
    "import seaborn as sns\n",
    "\n",
    "%matplotlib inline\n",
    "sns.set(color_codes=True)"
   ]
  },
  {
   "cell_type": "code",
   "execution_count": 16,
   "metadata": {},
   "outputs": [],
   "source": [
    "from pandas_profiling import ProfileReport"
   ]
  },
  {
   "cell_type": "code",
   "execution_count": 21,
   "metadata": {},
   "outputs": [
    {
     "data": {
      "text/plain": [
       "'C:\\\\Users\\\\bharath.r\\\\Desktop\\\\Personal'"
      ]
     },
     "execution_count": 21,
     "metadata": {},
     "output_type": "execute_result"
    }
   ],
   "source": [
    "import os \n",
    "os.getcwd()\n",
    "\n"
   ]
  },
  {
   "cell_type": "code",
   "execution_count": null,
   "metadata": {},
   "outputs": [],
   "source": [
    "os.chdir()"
   ]
  },
  {
   "cell_type": "code",
   "execution_count": 28,
   "metadata": {},
   "outputs": [],
   "source": [
    "#xls = pd.ExcelFile(\"C:/Users/bharath.r/Desktop/Personal/Pattern_Analysis_Round_-_Data_Sheet\")\n",
    "#f1 = pd.read_excel(xls, 'Sheet1')\n",
    "#df2 = pd.read_excel(xls, 'Sheet2')"
   ]
  },
  {
   "cell_type": "code",
   "execution_count": 103,
   "metadata": {},
   "outputs": [
    {
     "data": {
      "text/html": [
       "<div>\n",
       "<style scoped>\n",
       "    .dataframe tbody tr th:only-of-type {\n",
       "        vertical-align: middle;\n",
       "    }\n",
       "\n",
       "    .dataframe tbody tr th {\n",
       "        vertical-align: top;\n",
       "    }\n",
       "\n",
       "    .dataframe thead th {\n",
       "        text-align: right;\n",
       "    }\n",
       "</style>\n",
       "<table border=\"1\" class=\"dataframe\">\n",
       "  <thead>\n",
       "    <tr style=\"text-align: right;\">\n",
       "      <th></th>\n",
       "      <th>Email</th>\n",
       "      <th>Current Status</th>\n",
       "      <th>Type</th>\n",
       "      <th>Date</th>\n",
       "      <th>Started Free Trial?</th>\n",
       "      <th>Decision Maker</th>\n",
       "      <th>demo_date</th>\n",
       "      <th>Phone Number</th>\n",
       "      <th>Designation</th>\n",
       "      <th>Employee Size</th>\n",
       "      <th>...</th>\n",
       "      <th>City/State</th>\n",
       "      <th>Country</th>\n",
       "      <th>Keyword if any</th>\n",
       "      <th>Initial Referrer</th>\n",
       "      <th>Referrer URL</th>\n",
       "      <th>Acquisition Source</th>\n",
       "      <th>When do you need to Solution</th>\n",
       "      <th>Sources</th>\n",
       "      <th>Destinations</th>\n",
       "      <th>message</th>\n",
       "    </tr>\n",
       "  </thead>\n",
       "  <tbody>\n",
       "    <tr>\n",
       "      <td>0</td>\n",
       "      <td>1@customer-leads.com</td>\n",
       "      <td>Not Interested</td>\n",
       "      <td>create-account</td>\n",
       "      <td>Monday, October 1, 2018, 11:45:03 AM</td>\n",
       "      <td>No</td>\n",
       "      <td>Yes</td>\n",
       "      <td>NaN</td>\n",
       "      <td>Saturday, November 27, -19744, 12:00:00 AM</td>\n",
       "      <td>ETL Analyst Team Lead</td>\n",
       "      <td>375</td>\n",
       "      <td>...</td>\n",
       "      <td>Singaperumalkoil</td>\n",
       "      <td>India</td>\n",
       "      <td>NaN</td>\n",
       "      <td>https://www.google.co.in/</td>\n",
       "      <td>https://abc.com/blog/amazon-redshift-pros-and-...</td>\n",
       "      <td>Blog - Redshift - Generic</td>\n",
       "      <td>Immediately</td>\n",
       "      <td>redshift,s3,tableau</td>\n",
       "      <td>redshift</td>\n",
       "      <td>NaN</td>\n",
       "    </tr>\n",
       "    <tr>\n",
       "      <td>1</td>\n",
       "      <td>2@customer-leads.com</td>\n",
       "      <td>No Response - Email</td>\n",
       "      <td>create-account</td>\n",
       "      <td>Thursday, October 4, 2018, 5:05:03 PM</td>\n",
       "      <td>No</td>\n",
       "      <td>Yes</td>\n",
       "      <td>NaN</td>\n",
       "      <td>Tuesday, December 20, -3741, 12:00:00 AM</td>\n",
       "      <td>VP Engineering</td>\n",
       "      <td>50</td>\n",
       "      <td>...</td>\n",
       "      <td>NaN</td>\n",
       "      <td>United States</td>\n",
       "      <td>NaN</td>\n",
       "      <td>https://www.google.com/</td>\n",
       "      <td>https://abc.com/blog/superset-vs-metabase-vs-r...</td>\n",
       "      <td>Blog - Generic</td>\n",
       "      <td>Early Exploration</td>\n",
       "      <td>aurora,s3</td>\n",
       "      <td>bigquery,s3</td>\n",
       "      <td>NaN</td>\n",
       "    </tr>\n",
       "    <tr>\n",
       "      <td>2</td>\n",
       "      <td>3@customer-leads.com</td>\n",
       "      <td>No Response - Email</td>\n",
       "      <td>free-trial</td>\n",
       "      <td>Saturday, October 6, 2018, 4:30:52 PM</td>\n",
       "      <td>No</td>\n",
       "      <td>No</td>\n",
       "      <td>NaN</td>\n",
       "      <td>Tuesday, December 20, -3741, 12:00:00 AM</td>\n",
       "      <td>Senior DBA</td>\n",
       "      <td>7</td>\n",
       "      <td>...</td>\n",
       "      <td>Berlin</td>\n",
       "      <td>Germany</td>\n",
       "      <td>NaN</td>\n",
       "      <td>https://www.google.de/</td>\n",
       "      <td>https://abc.com/blog/postgresql-to-redshift-etl/</td>\n",
       "      <td>Blog - Redshift - X to Y</td>\n",
       "      <td>NaN</td>\n",
       "      <td>NaN</td>\n",
       "      <td>NaN</td>\n",
       "      <td>NaN</td>\n",
       "    </tr>\n",
       "    <tr>\n",
       "      <td>3</td>\n",
       "      <td>4@customer-leads.com</td>\n",
       "      <td>No Response - Email</td>\n",
       "      <td>create-account</td>\n",
       "      <td>Sunday, October 7, 2018, 11:49:01 AM</td>\n",
       "      <td>No</td>\n",
       "      <td>No</td>\n",
       "      <td>Friday, October 12, 2018, 8:30:00 PM</td>\n",
       "      <td>Tuesday, December 20, -3741, 12:00:00 AM</td>\n",
       "      <td>Data Analyst</td>\n",
       "      <td>215</td>\n",
       "      <td>...</td>\n",
       "      <td>New York</td>\n",
       "      <td>United States</td>\n",
       "      <td>NaN</td>\n",
       "      <td>https://www.google.com/</td>\n",
       "      <td>https://abc.com/blog/ai-transform-business-int...</td>\n",
       "      <td>Blog - Generic</td>\n",
       "      <td>Early Exploration</td>\n",
       "      <td>python,chartio,superset</td>\n",
       "      <td>mysql,ms_sql</td>\n",
       "      <td>NaN</td>\n",
       "    </tr>\n",
       "    <tr>\n",
       "      <td>4</td>\n",
       "      <td>5@customer-leads.com</td>\n",
       "      <td>Not Interested</td>\n",
       "      <td>free-trial</td>\n",
       "      <td>Tuesday, October 9, 2018, 1:49:27 PM</td>\n",
       "      <td>Yes</td>\n",
       "      <td>No</td>\n",
       "      <td>Tuesday, October 9, 2018, 2:00:00 PM</td>\n",
       "      <td>Tuesday, December 20, -3741, 12:00:00 AM</td>\n",
       "      <td>Business Intelligence Analyst</td>\n",
       "      <td>45</td>\n",
       "      <td>...</td>\n",
       "      <td>Kyiv</td>\n",
       "      <td>Ukraine</td>\n",
       "      <td>NaN</td>\n",
       "      <td>https://www.google.com.ua/</td>\n",
       "      <td>https://abc.com/blog/redshift-vs-bigquery/</td>\n",
       "      <td>Blog - Redshift - Generic</td>\n",
       "      <td>Immediately</td>\n",
       "      <td>google_analytics</td>\n",
       "      <td>bigquery</td>\n",
       "      <td>NaN</td>\n",
       "    </tr>\n",
       "  </tbody>\n",
       "</table>\n",
       "<p>5 rows × 23 columns</p>\n",
       "</div>"
      ],
      "text/plain": [
       "                  Email       Current Status            Type  \\\n",
       "0  1@customer-leads.com       Not Interested  create-account   \n",
       "1  2@customer-leads.com  No Response - Email  create-account   \n",
       "2  3@customer-leads.com  No Response - Email      free-trial   \n",
       "3  4@customer-leads.com  No Response - Email  create-account   \n",
       "4  5@customer-leads.com       Not Interested      free-trial   \n",
       "\n",
       "                                    Date Started Free Trial? Decision Maker  \\\n",
       "0   Monday, October 1, 2018, 11:45:03 AM                  No            Yes   \n",
       "1  Thursday, October 4, 2018, 5:05:03 PM                  No            Yes   \n",
       "2  Saturday, October 6, 2018, 4:30:52 PM                  No             No   \n",
       "3   Sunday, October 7, 2018, 11:49:01 AM                  No             No   \n",
       "4   Tuesday, October 9, 2018, 1:49:27 PM                 Yes             No   \n",
       "\n",
       "                              demo_date  \\\n",
       "0                                   NaN   \n",
       "1                                   NaN   \n",
       "2                                   NaN   \n",
       "3  Friday, October 12, 2018, 8:30:00 PM   \n",
       "4  Tuesday, October 9, 2018, 2:00:00 PM   \n",
       "\n",
       "                                 Phone Number                    Designation  \\\n",
       "0  Saturday, November 27, -19744, 12:00:00 AM         ETL Analyst Team Lead    \n",
       "1    Tuesday, December 20, -3741, 12:00:00 AM                 VP Engineering   \n",
       "2    Tuesday, December 20, -3741, 12:00:00 AM                     Senior DBA   \n",
       "3    Tuesday, December 20, -3741, 12:00:00 AM                   Data Analyst   \n",
       "4    Tuesday, December 20, -3741, 12:00:00 AM  Business Intelligence Analyst   \n",
       "\n",
       "  Employee Size  ...        City/State        Country Keyword if any  \\\n",
       "0           375  ...  Singaperumalkoil          India            NaN   \n",
       "1            50  ...               NaN  United States            NaN   \n",
       "2             7  ...            Berlin        Germany            NaN   \n",
       "3           215  ...          New York  United States            NaN   \n",
       "4            45  ...              Kyiv        Ukraine            NaN   \n",
       "\n",
       "             Initial Referrer  \\\n",
       "0   https://www.google.co.in/   \n",
       "1     https://www.google.com/   \n",
       "2      https://www.google.de/   \n",
       "3     https://www.google.com/   \n",
       "4  https://www.google.com.ua/   \n",
       "\n",
       "                                        Referrer URL  \\\n",
       "0  https://abc.com/blog/amazon-redshift-pros-and-...   \n",
       "1  https://abc.com/blog/superset-vs-metabase-vs-r...   \n",
       "2   https://abc.com/blog/postgresql-to-redshift-etl/   \n",
       "3  https://abc.com/blog/ai-transform-business-int...   \n",
       "4         https://abc.com/blog/redshift-vs-bigquery/   \n",
       "\n",
       "          Acquisition Source When do you need to Solution  \\\n",
       "0  Blog - Redshift - Generic                  Immediately   \n",
       "1             Blog - Generic            Early Exploration   \n",
       "2   Blog - Redshift - X to Y                          NaN   \n",
       "3             Blog - Generic            Early Exploration   \n",
       "4  Blog - Redshift - Generic                  Immediately   \n",
       "\n",
       "                   Sources  Destinations message  \n",
       "0      redshift,s3,tableau      redshift     NaN  \n",
       "1                aurora,s3   bigquery,s3     NaN  \n",
       "2                      NaN           NaN     NaN  \n",
       "3  python,chartio,superset  mysql,ms_sql     NaN  \n",
       "4         google_analytics      bigquery     NaN  \n",
       "\n",
       "[5 rows x 23 columns]"
      ]
     },
     "execution_count": 103,
     "metadata": {},
     "output_type": "execute_result"
    }
   ],
   "source": [
    "Leads = pd.read_csv(\"Leads.csv\")\n",
    "# To display the top 5 rows\n",
    "Leads.head(5)\n",
    "\n"
   ]
  },
  {
   "cell_type": "code",
   "execution_count": 30,
   "metadata": {},
   "outputs": [
    {
     "data": {
      "text/html": [
       "<div>\n",
       "<style scoped>\n",
       "    .dataframe tbody tr th:only-of-type {\n",
       "        vertical-align: middle;\n",
       "    }\n",
       "\n",
       "    .dataframe tbody tr th {\n",
       "        vertical-align: top;\n",
       "    }\n",
       "\n",
       "    .dataframe thead th {\n",
       "        text-align: right;\n",
       "    }\n",
       "</style>\n",
       "<table border=\"1\" class=\"dataframe\">\n",
       "  <thead>\n",
       "    <tr style=\"text-align: right;\">\n",
       "      <th></th>\n",
       "      <th>Blog Url</th>\n",
       "      <th>2018-08-01 0:00:00</th>\n",
       "      <th>2018-08-02 0:00:00</th>\n",
       "      <th>2018-08-03 0:00:00</th>\n",
       "      <th>2018-08-04 0:00:00</th>\n",
       "      <th>2018-08-05 0:00:00</th>\n",
       "      <th>2018-08-06 0:00:00</th>\n",
       "      <th>2018-08-07 0:00:00</th>\n",
       "      <th>2018-08-08 0:00:00</th>\n",
       "      <th>2018-08-09 0:00:00</th>\n",
       "      <th>...</th>\n",
       "      <th>2018-10-22 0:00:00</th>\n",
       "      <th>2018-10-23 0:00:00</th>\n",
       "      <th>2018-10-24 0:00:00</th>\n",
       "      <th>2018-10-25 0:00:00</th>\n",
       "      <th>2018-10-26 0:00:00</th>\n",
       "      <th>2018-10-27 0:00:00</th>\n",
       "      <th>2018-10-28 0:00:00</th>\n",
       "      <th>2018-10-29 0:00:00</th>\n",
       "      <th>2018-10-30 0:00:00</th>\n",
       "      <th>2018-10-31 0:00:00</th>\n",
       "    </tr>\n",
       "  </thead>\n",
       "  <tbody>\n",
       "    <tr>\n",
       "      <td>0</td>\n",
       "      <td>https://abc.com/blog/redshift-vacuum-and-analyze/</td>\n",
       "      <td>32</td>\n",
       "      <td>15</td>\n",
       "      <td>25</td>\n",
       "      <td>5</td>\n",
       "      <td>4</td>\n",
       "      <td>25</td>\n",
       "      <td>30</td>\n",
       "      <td>26</td>\n",
       "      <td>27</td>\n",
       "      <td>...</td>\n",
       "      <td>31</td>\n",
       "      <td>28</td>\n",
       "      <td>19</td>\n",
       "      <td>17</td>\n",
       "      <td>24</td>\n",
       "      <td>5</td>\n",
       "      <td>14</td>\n",
       "      <td>40</td>\n",
       "      <td>31</td>\n",
       "      <td>17</td>\n",
       "    </tr>\n",
       "    <tr>\n",
       "      <td>1</td>\n",
       "      <td>https://abc.com/blog/amazon-redshift-pros-and-...</td>\n",
       "      <td>25</td>\n",
       "      <td>15</td>\n",
       "      <td>19</td>\n",
       "      <td>1</td>\n",
       "      <td>1</td>\n",
       "      <td>20</td>\n",
       "      <td>19</td>\n",
       "      <td>17</td>\n",
       "      <td>16</td>\n",
       "      <td>...</td>\n",
       "      <td>27</td>\n",
       "      <td>24</td>\n",
       "      <td>24</td>\n",
       "      <td>23</td>\n",
       "      <td>19</td>\n",
       "      <td>6</td>\n",
       "      <td>20</td>\n",
       "      <td>30</td>\n",
       "      <td>20</td>\n",
       "      <td>19</td>\n",
       "    </tr>\n",
       "    <tr>\n",
       "      <td>2</td>\n",
       "      <td>https://abc.com/blog/redshift-distribution-keys/</td>\n",
       "      <td>13</td>\n",
       "      <td>15</td>\n",
       "      <td>10</td>\n",
       "      <td>1</td>\n",
       "      <td>3</td>\n",
       "      <td>16</td>\n",
       "      <td>25</td>\n",
       "      <td>18</td>\n",
       "      <td>16</td>\n",
       "      <td>...</td>\n",
       "      <td>34</td>\n",
       "      <td>38</td>\n",
       "      <td>29</td>\n",
       "      <td>33</td>\n",
       "      <td>22</td>\n",
       "      <td>5</td>\n",
       "      <td>14</td>\n",
       "      <td>34</td>\n",
       "      <td>44</td>\n",
       "      <td>37</td>\n",
       "    </tr>\n",
       "    <tr>\n",
       "      <td>3</td>\n",
       "      <td>https://abc.com/blog/postgresql-to-redshift-etl/</td>\n",
       "      <td>25</td>\n",
       "      <td>16</td>\n",
       "      <td>16</td>\n",
       "      <td>8</td>\n",
       "      <td>7</td>\n",
       "      <td>23</td>\n",
       "      <td>20</td>\n",
       "      <td>13</td>\n",
       "      <td>13</td>\n",
       "      <td>...</td>\n",
       "      <td>18</td>\n",
       "      <td>24</td>\n",
       "      <td>22</td>\n",
       "      <td>16</td>\n",
       "      <td>11</td>\n",
       "      <td>5</td>\n",
       "      <td>9</td>\n",
       "      <td>21</td>\n",
       "      <td>29</td>\n",
       "      <td>15</td>\n",
       "    </tr>\n",
       "    <tr>\n",
       "      <td>4</td>\n",
       "      <td>https://abc.com/blog/redshift-sort-keys-choosi...</td>\n",
       "      <td>8</td>\n",
       "      <td>17</td>\n",
       "      <td>18</td>\n",
       "      <td>5</td>\n",
       "      <td>8</td>\n",
       "      <td>15</td>\n",
       "      <td>21</td>\n",
       "      <td>20</td>\n",
       "      <td>22</td>\n",
       "      <td>...</td>\n",
       "      <td>32</td>\n",
       "      <td>34</td>\n",
       "      <td>26</td>\n",
       "      <td>35</td>\n",
       "      <td>26</td>\n",
       "      <td>5</td>\n",
       "      <td>14</td>\n",
       "      <td>28</td>\n",
       "      <td>54</td>\n",
       "      <td>48</td>\n",
       "    </tr>\n",
       "  </tbody>\n",
       "</table>\n",
       "<p>5 rows × 93 columns</p>\n",
       "</div>"
      ],
      "text/plain": [
       "                                            Blog Url  2018-08-01 0:00:00  \\\n",
       "0  https://abc.com/blog/redshift-vacuum-and-analyze/                  32   \n",
       "1  https://abc.com/blog/amazon-redshift-pros-and-...                  25   \n",
       "2   https://abc.com/blog/redshift-distribution-keys/                  13   \n",
       "3   https://abc.com/blog/postgresql-to-redshift-etl/                  25   \n",
       "4  https://abc.com/blog/redshift-sort-keys-choosi...                   8   \n",
       "\n",
       "   2018-08-02 0:00:00  2018-08-03 0:00:00  2018-08-04 0:00:00  \\\n",
       "0                  15                  25                   5   \n",
       "1                  15                  19                   1   \n",
       "2                  15                  10                   1   \n",
       "3                  16                  16                   8   \n",
       "4                  17                  18                   5   \n",
       "\n",
       "   2018-08-05 0:00:00  2018-08-06 0:00:00  2018-08-07 0:00:00  \\\n",
       "0                   4                  25                  30   \n",
       "1                   1                  20                  19   \n",
       "2                   3                  16                  25   \n",
       "3                   7                  23                  20   \n",
       "4                   8                  15                  21   \n",
       "\n",
       "   2018-08-08 0:00:00  2018-08-09 0:00:00  ...  2018-10-22 0:00:00  \\\n",
       "0                  26                  27  ...                  31   \n",
       "1                  17                  16  ...                  27   \n",
       "2                  18                  16  ...                  34   \n",
       "3                  13                  13  ...                  18   \n",
       "4                  20                  22  ...                  32   \n",
       "\n",
       "   2018-10-23 0:00:00  2018-10-24 0:00:00  2018-10-25 0:00:00  \\\n",
       "0                  28                  19                  17   \n",
       "1                  24                  24                  23   \n",
       "2                  38                  29                  33   \n",
       "3                  24                  22                  16   \n",
       "4                  34                  26                  35   \n",
       "\n",
       "   2018-10-26 0:00:00  2018-10-27 0:00:00  2018-10-28 0:00:00  \\\n",
       "0                  24                   5                  14   \n",
       "1                  19                   6                  20   \n",
       "2                  22                   5                  14   \n",
       "3                  11                   5                   9   \n",
       "4                  26                   5                  14   \n",
       "\n",
       "   2018-10-29 0:00:00  2018-10-30 0:00:00  2018-10-31 0:00:00  \n",
       "0                  40                  31                  17  \n",
       "1                  30                  20                  19  \n",
       "2                  34                  44                  37  \n",
       "3                  21                  29                  15  \n",
       "4                  28                  54                  48  \n",
       "\n",
       "[5 rows x 93 columns]"
      ]
     },
     "execution_count": 30,
     "metadata": {},
     "output_type": "execute_result"
    }
   ],
   "source": [
    "Blog = pd.read_csv(\"Blog.csv\")\n",
    "Blog.head()"
   ]
  },
  {
   "cell_type": "code",
   "execution_count": 31,
   "metadata": {},
   "outputs": [
    {
     "name": "stdout",
     "output_type": "stream",
     "text": [
      "<class 'pandas.core.frame.DataFrame'>\n",
      "RangeIndex: 71 entries, 0 to 70\n",
      "Data columns (total 23 columns):\n",
      "Email                           71 non-null object\n",
      "Current Status                  71 non-null object\n",
      "Type                            71 non-null object\n",
      "Date                            71 non-null object\n",
      "Started Free Trial?             71 non-null object\n",
      "Decision Maker                  71 non-null object\n",
      "demo_date                       37 non-null object\n",
      "Phone Number                    71 non-null object\n",
      "Designation                     69 non-null object\n",
      "Employee Size                   61 non-null object\n",
      "Visited Pricing                 69 non-null object\n",
      "Visited Integrations            69 non-null object\n",
      "Visited Platform                69 non-null object\n",
      "City/State                      66 non-null object\n",
      "Country                         69 non-null object\n",
      "Keyword if any                  17 non-null object\n",
      "Initial Referrer                66 non-null object\n",
      "Referrer URL                    68 non-null object\n",
      "Acquisition Source              69 non-null object\n",
      "When do you need to Solution    40 non-null object\n",
      "Sources                         41 non-null object\n",
      "Destinations                    40 non-null object\n",
      "message                         2 non-null object\n",
      "dtypes: object(23)\n",
      "memory usage: 12.9+ KB\n"
     ]
    }
   ],
   "source": [
    "Leads.info()\n",
    "blog.info()"
   ]
  },
  {
   "cell_type": "code",
   "execution_count": 38,
   "metadata": {},
   "outputs": [
    {
     "name": "stdout",
     "output_type": "stream",
     "text": [
      "(71, 23) (39, 93)\n"
     ]
    }
   ],
   "source": [
    "print( Leads.shape , Blog.shape)"
   ]
  },
  {
   "cell_type": "code",
   "execution_count": 45,
   "metadata": {},
   "outputs": [
    {
     "name": "stdout",
     "output_type": "stream",
     "text": [
      "Email                           object\n",
      "Current Status                  object\n",
      "Type                            object\n",
      "Date                            object\n",
      "Started Free Trial?             object\n",
      "Decision Maker                  object\n",
      "demo_date                       object\n",
      "Phone Number                    object\n",
      "Designation                     object\n",
      "Employee Size                   object\n",
      "Visited Pricing                 object\n",
      "Visited Integrations            object\n",
      "Visited Platform                object\n",
      "City/State                      object\n",
      "Country                         object\n",
      "Keyword if any                  object\n",
      "Initial Referrer                object\n",
      "Referrer URL                    object\n",
      "Acquisition Source              object\n",
      "When do you need to Solution    object\n",
      "Sources                         object\n",
      "Destinations                    object\n",
      "message                         object\n",
      "dtype: object\n",
      "Blog Url              object\n",
      "2018-08-01 0:00:00     int64\n",
      "2018-08-02 0:00:00     int64\n",
      "2018-08-03 0:00:00     int64\n",
      "2018-08-04 0:00:00     int64\n",
      "                       ...  \n",
      "2018-10-27 0:00:00     int64\n",
      "2018-10-28 0:00:00     int64\n",
      "2018-10-29 0:00:00     int64\n",
      "2018-10-30 0:00:00     int64\n",
      "2018-10-31 0:00:00     int64\n",
      "Length: 93, dtype: object\n"
     ]
    }
   ],
   "source": [
    "print ( Leads.dtypes) \n",
    "print(Blog.dtypes)"
   ]
  },
  {
   "cell_type": "code",
   "execution_count": 104,
   "metadata": {},
   "outputs": [
    {
     "data": {
      "text/plain": [
       "(71, 23)"
      ]
     },
     "execution_count": 104,
     "metadata": {},
     "output_type": "execute_result"
    }
   ],
   "source": [
    "Leads= Leads.drop_duplicates()\n",
    "Blog= Blog.drop_duplicates()\n",
    "Leads.shape\n"
   ]
  },
  {
   "cell_type": "code",
   "execution_count": 48,
   "metadata": {},
   "outputs": [
    {
     "data": {
      "text/plain": [
       "(39, 93)"
      ]
     },
     "execution_count": 48,
     "metadata": {},
     "output_type": "execute_result"
    }
   ],
   "source": [
    "Blog.shape"
   ]
  },
  {
   "cell_type": "code",
   "execution_count": 105,
   "metadata": {},
   "outputs": [
    {
     "data": {
      "text/plain": [
       "(71, 23)"
      ]
     },
     "execution_count": 105,
     "metadata": {},
     "output_type": "execute_result"
    }
   ],
   "source": [
    "df = Leads\n",
    "df.dropna()\n",
    "df.shape"
   ]
  },
  {
   "cell_type": "code",
   "execution_count": 108,
   "metadata": {},
   "outputs": [
    {
     "data": {
      "text/plain": [
       "[375,\n",
       " 50,\n",
       " 7,\n",
       " 215,\n",
       " 45,\n",
       " 0,\n",
       " 45,\n",
       " 120,\n",
       " 0,\n",
       " 60,\n",
       " 16,\n",
       " 652,\n",
       " 0,\n",
       " 64,\n",
       " 0,\n",
       " 0,\n",
       " 30,\n",
       " 0,\n",
       " 0,\n",
       " 15,\n",
       " 1,\n",
       " 687,\n",
       " 60,\n",
       " 0,\n",
       " 210,\n",
       " 189,\n",
       " 16566,\n",
       " 97,\n",
       " 6910,\n",
       " 6651,\n",
       " 13,\n",
       " 27,\n",
       " 65,\n",
       " 659,\n",
       " 132,\n",
       " 33,\n",
       " 1,\n",
       " 6,\n",
       " 30,\n",
       " 28,\n",
       " 99,\n",
       " 6670,\n",
       " 0,\n",
       " 45,\n",
       " 18000,\n",
       " 7,\n",
       " 184,\n",
       " 21,\n",
       " 15,\n",
       " 1,\n",
       " 14,\n",
       " 83,\n",
       " 0,\n",
       " 34,\n",
       " 1,\n",
       " 23,\n",
       " 17,\n",
       " 2,\n",
       " 2360,\n",
       " 41,\n",
       " 566,\n",
       " 466,\n",
       " 3,\n",
       " 155,\n",
       " 0,\n",
       " 144,\n",
       " 59,\n",
       " 32,\n",
       " 230,\n",
       " 174,\n",
       " 93]"
      ]
     },
     "execution_count": 108,
     "metadata": {},
     "output_type": "execute_result"
    }
   ],
   "source": [
    "df['Employee Size'] = df['Employee Size'].str.replace('-','0') \n",
    "#df['Employee Size'] = df['Employee Size'].str.replace('','0')\n",
    "df['Employee Size'] = df['Employee Size'].fillna(0)\n",
    "#df['Employee Size'].astype(int)\n",
    "\n",
    "\n",
    "#df['Employee Size'] = df['Employee Size']. astype(str)\n",
    "df['Employee Size'] = df['Employee Size'].astype(int)\n",
    "\n",
    "l = list( df['Employee Size']) "
   ]
  },
  {
   "cell_type": "code",
   "execution_count": 124,
   "metadata": {},
   "outputs": [
    {
     "ename": "ValueError",
     "evalue": "Could not interpret input 'Employee Size'",
     "output_type": "error",
     "traceback": [
      "\u001b[1;31m---------------------------------------------------------------------------\u001b[0m",
      "\u001b[1;31mValueError\u001b[0m                                Traceback (most recent call last)",
      "\u001b[1;32m<ipython-input-124-a616ac0b595c>\u001b[0m in \u001b[0;36m<module>\u001b[1;34m\u001b[0m\n\u001b[0;32m      1\u001b[0m \u001b[0mdf\u001b[0m\u001b[1;33m=\u001b[0m \u001b[0mLeads\u001b[0m\u001b[1;33m[\u001b[0m\u001b[1;34m'Employee Size'\u001b[0m\u001b[1;33m]\u001b[0m\u001b[1;33m\u001b[0m\u001b[1;33m\u001b[0m\u001b[0m\n\u001b[1;32m----> 2\u001b[1;33m \u001b[0msns\u001b[0m\u001b[1;33m.\u001b[0m\u001b[0mboxplot\u001b[0m\u001b[1;33m(\u001b[0m\u001b[0mx\u001b[0m\u001b[1;33m=\u001b[0m\u001b[1;34m\"Employee Size\"\u001b[0m\u001b[1;33m)\u001b[0m\u001b[1;33m\u001b[0m\u001b[1;33m\u001b[0m\u001b[0m\n\u001b[0m\u001b[0;32m      3\u001b[0m \u001b[1;33m\u001b[0m\u001b[0m\n\u001b[0;32m      4\u001b[0m \u001b[0mplt\u001b[0m\u001b[1;33m.\u001b[0m\u001b[0mshow\u001b[0m\u001b[1;33m(\u001b[0m\u001b[1;33m)\u001b[0m\u001b[1;33m\u001b[0m\u001b[1;33m\u001b[0m\u001b[0m\n",
      "\u001b[1;32mC:\\ProgramData\\Anaconda3\\lib\\site-packages\\seaborn\\categorical.py\u001b[0m in \u001b[0;36mboxplot\u001b[1;34m(x, y, hue, data, order, hue_order, orient, color, palette, saturation, width, dodge, fliersize, linewidth, whis, notch, ax, **kwargs)\u001b[0m\n\u001b[0;32m   2229\u001b[0m     plotter = _BoxPlotter(x, y, hue, data, order, hue_order,\n\u001b[0;32m   2230\u001b[0m                           \u001b[0morient\u001b[0m\u001b[1;33m,\u001b[0m \u001b[0mcolor\u001b[0m\u001b[1;33m,\u001b[0m \u001b[0mpalette\u001b[0m\u001b[1;33m,\u001b[0m \u001b[0msaturation\u001b[0m\u001b[1;33m,\u001b[0m\u001b[1;33m\u001b[0m\u001b[1;33m\u001b[0m\u001b[0m\n\u001b[1;32m-> 2231\u001b[1;33m                           width, dodge, fliersize, linewidth)\n\u001b[0m\u001b[0;32m   2232\u001b[0m \u001b[1;33m\u001b[0m\u001b[0m\n\u001b[0;32m   2233\u001b[0m     \u001b[1;32mif\u001b[0m \u001b[0max\u001b[0m \u001b[1;32mis\u001b[0m \u001b[1;32mNone\u001b[0m\u001b[1;33m:\u001b[0m\u001b[1;33m\u001b[0m\u001b[1;33m\u001b[0m\u001b[0m\n",
      "\u001b[1;32mC:\\ProgramData\\Anaconda3\\lib\\site-packages\\seaborn\\categorical.py\u001b[0m in \u001b[0;36m__init__\u001b[1;34m(self, x, y, hue, data, order, hue_order, orient, color, palette, saturation, width, dodge, fliersize, linewidth)\u001b[0m\n\u001b[0;32m    444\u001b[0m                  width, dodge, fliersize, linewidth):\n\u001b[0;32m    445\u001b[0m \u001b[1;33m\u001b[0m\u001b[0m\n\u001b[1;32m--> 446\u001b[1;33m         \u001b[0mself\u001b[0m\u001b[1;33m.\u001b[0m\u001b[0mestablish_variables\u001b[0m\u001b[1;33m(\u001b[0m\u001b[0mx\u001b[0m\u001b[1;33m,\u001b[0m \u001b[0my\u001b[0m\u001b[1;33m,\u001b[0m \u001b[0mhue\u001b[0m\u001b[1;33m,\u001b[0m \u001b[0mdata\u001b[0m\u001b[1;33m,\u001b[0m \u001b[0morient\u001b[0m\u001b[1;33m,\u001b[0m \u001b[0morder\u001b[0m\u001b[1;33m,\u001b[0m \u001b[0mhue_order\u001b[0m\u001b[1;33m)\u001b[0m\u001b[1;33m\u001b[0m\u001b[1;33m\u001b[0m\u001b[0m\n\u001b[0m\u001b[0;32m    447\u001b[0m         \u001b[0mself\u001b[0m\u001b[1;33m.\u001b[0m\u001b[0mestablish_colors\u001b[0m\u001b[1;33m(\u001b[0m\u001b[0mcolor\u001b[0m\u001b[1;33m,\u001b[0m \u001b[0mpalette\u001b[0m\u001b[1;33m,\u001b[0m \u001b[0msaturation\u001b[0m\u001b[1;33m)\u001b[0m\u001b[1;33m\u001b[0m\u001b[1;33m\u001b[0m\u001b[0m\n\u001b[0;32m    448\u001b[0m \u001b[1;33m\u001b[0m\u001b[0m\n",
      "\u001b[1;32mC:\\ProgramData\\Anaconda3\\lib\\site-packages\\seaborn\\categorical.py\u001b[0m in \u001b[0;36mestablish_variables\u001b[1;34m(self, x, y, hue, data, orient, order, hue_order, units)\u001b[0m\n\u001b[0;32m    153\u001b[0m                 \u001b[1;32mif\u001b[0m \u001b[0misinstance\u001b[0m\u001b[1;33m(\u001b[0m\u001b[0minput\u001b[0m\u001b[1;33m,\u001b[0m \u001b[0mstring_types\u001b[0m\u001b[1;33m)\u001b[0m\u001b[1;33m:\u001b[0m\u001b[1;33m\u001b[0m\u001b[1;33m\u001b[0m\u001b[0m\n\u001b[0;32m    154\u001b[0m                     \u001b[0merr\u001b[0m \u001b[1;33m=\u001b[0m \u001b[1;34m\"Could not interpret input '{}'\"\u001b[0m\u001b[1;33m.\u001b[0m\u001b[0mformat\u001b[0m\u001b[1;33m(\u001b[0m\u001b[0minput\u001b[0m\u001b[1;33m)\u001b[0m\u001b[1;33m\u001b[0m\u001b[1;33m\u001b[0m\u001b[0m\n\u001b[1;32m--> 155\u001b[1;33m                     \u001b[1;32mraise\u001b[0m \u001b[0mValueError\u001b[0m\u001b[1;33m(\u001b[0m\u001b[0merr\u001b[0m\u001b[1;33m)\u001b[0m\u001b[1;33m\u001b[0m\u001b[1;33m\u001b[0m\u001b[0m\n\u001b[0m\u001b[0;32m    156\u001b[0m \u001b[1;33m\u001b[0m\u001b[0m\n\u001b[0;32m    157\u001b[0m             \u001b[1;31m# Figure out the plotting orientation\u001b[0m\u001b[1;33m\u001b[0m\u001b[1;33m\u001b[0m\u001b[1;33m\u001b[0m\u001b[0m\n",
      "\u001b[1;31mValueError\u001b[0m: Could not interpret input 'Employee Size'"
     ]
    }
   ],
   "source": [
    "df= Leads['Employee Size']\n",
    "sns.boxplot(x=\"Employee Size\")\n",
    "\n",
    "plt.show()"
   ]
  },
  {
   "cell_type": "code",
   "execution_count": 132,
   "metadata": {},
   "outputs": [
    {
     "name": "stderr",
     "output_type": "stream",
     "text": [
      "C:\\ProgramData\\Anaconda3\\lib\\site-packages\\ipykernel_launcher.py:10: UserWarning: Matplotlib is currently using agg, which is a non-GUI backend, so cannot show the figure.\n",
      "  # Remove the CWD from sys.path while we load stuff.\n"
     ]
    }
   ],
   "source": [
    "import numpy as np; np.random.seed(42)\n",
    "import pandas as pd\n",
    "import matplotlib.pyplot as plt\n",
    "import seaborn as sns\n",
    "\n",
    "df = pd.DataFrame(data = np.random.random(size=(4,4)), columns = ['A','B','C','D'])\n",
    "\n",
    "sns.boxplot(x=\"variable\", y=\"value\", data=pd.melt(df))\n",
    "\n",
    "plt.show()"
   ]
  },
  {
   "cell_type": "code",
   "execution_count": 136,
   "metadata": {},
   "outputs": [
    {
     "name": "stderr",
     "output_type": "stream",
     "text": [
      "C:\\ProgramData\\Anaconda3\\lib\\site-packages\\ipykernel_launcher.py:20: UserWarning: Matplotlib is currently using agg, which is a non-GUI backend, so cannot show the figure.\n"
     ]
    }
   ],
   "source": [
    "import matplotlib.pyplot as plt \n",
    "  \n",
    "# x axis values \n",
    "x = [1,2,3] \n",
    "# corresponding y axis values \n",
    "y = [2,4,1] \n",
    "  \n",
    "# plotting the points  \n",
    "plt.plot(x, y) \n",
    "  \n",
    "# naming the x axis \n",
    "plt.xlabel('x - axis') \n",
    "# naming the y axis \n",
    "plt.ylabel('y - axis') \n",
    "  \n",
    "# giving a title to my graph \n",
    "plt.title('My first graph!') \n",
    "  \n",
    "# function to show the plot \n",
    "plt.show() "
   ]
  },
  {
   "cell_type": "code",
   "execution_count": 137,
   "metadata": {},
   "outputs": [
    {
     "ename": "SyntaxError",
     "evalue": "invalid syntax (<ipython-input-137-5319a1ebd407>, line 3)",
     "output_type": "error",
     "traceback": [
      "\u001b[1;36m  File \u001b[1;32m\"<ipython-input-137-5319a1ebd407>\"\u001b[1;36m, line \u001b[1;32m3\u001b[0m\n\u001b[1;33m    conda install PyQt5==5.9.2\u001b[0m\n\u001b[1;37m                ^\u001b[0m\n\u001b[1;31mSyntaxError\u001b[0m\u001b[1;31m:\u001b[0m invalid syntax\n"
     ]
    }
   ],
   "source": [
    "#pip3 install PyQt5==5.9.2\n",
    "\n",
    "conda install PyQt5==5.9.2"
   ]
  },
  {
   "cell_type": "code",
   "execution_count": 133,
   "metadata": {},
   "outputs": [
    {
     "data": {
      "text/plain": [
       "Index(['Email', 'Current Status', 'Type', 'Date', 'Started Free Trial?',\n",
       "       'Decision Maker', 'demo_date', 'Phone Number', 'Designation',\n",
       "       'Employee Size', 'Visited Pricing ', 'Visited Integrations ',\n",
       "       'Visited Platform ', 'City/State', 'Country', 'Keyword if any',\n",
       "       'Initial Referrer', 'Referrer URL', 'Acquisition Source',\n",
       "       'When do you need to Solution', 'Sources', 'Destinations', 'message'],\n",
       "      dtype='object')"
      ]
     },
     "execution_count": 133,
     "metadata": {},
     "output_type": "execute_result"
    }
   ],
   "source": [
    "Leads.columns\n",
    "\n"
   ]
  },
  {
   "cell_type": "code",
   "execution_count": 129,
   "metadata": {},
   "outputs": [
    {
     "data": {
      "text/plain": [
       "['C:\\\\Users\\\\bharath.r\\\\Desktop\\\\Personal',\n",
       " 'C:\\\\ProgramData\\\\Anaconda3\\\\python37.zip',\n",
       " 'C:\\\\ProgramData\\\\Anaconda3\\\\DLLs',\n",
       " 'C:\\\\ProgramData\\\\Anaconda3\\\\lib',\n",
       " 'C:\\\\ProgramData\\\\Anaconda3',\n",
       " '',\n",
       " 'C:\\\\ProgramData\\\\Anaconda3\\\\lib\\\\site-packages',\n",
       " 'C:\\\\ProgramData\\\\Anaconda3\\\\lib\\\\site-packages\\\\win32',\n",
       " 'C:\\\\ProgramData\\\\Anaconda3\\\\lib\\\\site-packages\\\\win32\\\\lib',\n",
       " 'C:\\\\ProgramData\\\\Anaconda3\\\\lib\\\\site-packages\\\\Pythonwin',\n",
       " 'C:\\\\ProgramData\\\\Anaconda3\\\\lib\\\\site-packages\\\\IPython\\\\extensions',\n",
       " 'C:\\\\Users\\\\bharath.r\\\\.ipython']"
      ]
     },
     "execution_count": 129,
     "metadata": {},
     "output_type": "execute_result"
    }
   ],
   "source": [
    "import sys \n",
    "sys.path"
   ]
  },
  {
   "cell_type": "code",
   "execution_count": 50,
   "metadata": {},
   "outputs": [
    {
     "data": {
      "text/plain": [
       "Index(['Email', 'Current Status', 'Type', 'Date', 'Started Free Trial?',\n",
       "       'Decision Maker', 'demo_date', 'Phone Number', 'Designation',\n",
       "       'Employee Size', 'Visited Pricing ', 'Visited Integrations ',\n",
       "       'Visited Platform ', 'City/State', 'Country', 'Keyword if any',\n",
       "       'Initial Referrer', 'Referrer URL', 'Acquisition Source',\n",
       "       'When do you need to Solution', 'Sources', 'Destinations', 'message'],\n",
       "      dtype='object')"
      ]
     },
     "execution_count": 50,
     "metadata": {},
     "output_type": "execute_result"
    }
   ],
   "source": [
    "Leads.columns"
   ]
  },
  {
   "cell_type": "code",
   "execution_count": null,
   "metadata": {},
   "outputs": [],
   "source": []
  },
  {
   "cell_type": "code",
   "execution_count": null,
   "metadata": {},
   "outputs": [],
   "source": []
  },
  {
   "cell_type": "code",
   "execution_count": null,
   "metadata": {},
   "outputs": [],
   "source": []
  },
  {
   "cell_type": "code",
   "execution_count": null,
   "metadata": {},
   "outputs": [],
   "source": []
  },
  {
   "cell_type": "code",
   "execution_count": 40,
   "metadata": {},
   "outputs": [
    {
     "name": "stderr",
     "output_type": "stream",
     "text": [
      "C:\\ProgramData\\Anaconda3\\lib\\site-packages\\pandas_profiling\\describe.py:392: FutureWarning: The join_axes-keyword is deprecated. Use .reindex or .reindex_like on the result to achieve the same functionality.\n",
      "  variable_stats = pd.concat(ldesc, join_axes=pd.Index([names]), axis=1)\n",
      "C:\\ProgramData\\Anaconda3\\lib\\site-packages\\pandas_profiling\\plot.py:133: UserWarning: Attempting to set identical left == right == -0.5 results in singular transformations; automatically expanding.\n",
      "  matrix_image = axes_cor.imshow(corrdf, vmin=-1, vmax=1, interpolation=\"nearest\", cmap='bwr')\n",
      "C:\\ProgramData\\Anaconda3\\lib\\site-packages\\pandas_profiling\\plot.py:133: UserWarning: Attempting to set identical bottom == top == -0.5 results in singular transformations; automatically expanding.\n",
      "  matrix_image = axes_cor.imshow(corrdf, vmin=-1, vmax=1, interpolation=\"nearest\", cmap='bwr')\n"
     ]
    },
    {
     "ename": "ZeroDivisionError",
     "evalue": "float division by zero",
     "output_type": "error",
     "traceback": [
      "\u001b[1;31m---------------------------------------------------------------------------\u001b[0m",
      "\u001b[1;31mZeroDivisionError\u001b[0m                         Traceback (most recent call last)",
      "\u001b[1;32m<ipython-input-40-c6b0f20cb34a>\u001b[0m in \u001b[0;36m<module>\u001b[1;34m\u001b[0m\n\u001b[0;32m      1\u001b[0m \u001b[0mdf\u001b[0m \u001b[1;33m=\u001b[0m \u001b[0mLeads\u001b[0m\u001b[1;33m\u001b[0m\u001b[1;33m\u001b[0m\u001b[0m\n\u001b[1;32m----> 2\u001b[1;33m \u001b[0mprofile\u001b[0m \u001b[1;33m=\u001b[0m \u001b[0mProfileReport\u001b[0m\u001b[1;33m(\u001b[0m\u001b[0mdf\u001b[0m \u001b[1;33m)\u001b[0m\u001b[1;33m\u001b[0m\u001b[1;33m\u001b[0m\u001b[0m\n\u001b[0m\u001b[0;32m      3\u001b[0m \u001b[1;33m\u001b[0m\u001b[0m\n\u001b[0;32m      4\u001b[0m \u001b[1;31m#profile.to_file(\"Leads_EDA_Report.html\")\u001b[0m\u001b[1;33m\u001b[0m\u001b[1;33m\u001b[0m\u001b[1;33m\u001b[0m\u001b[0m\n",
      "\u001b[1;32mC:\\ProgramData\\Anaconda3\\lib\\site-packages\\pandas_profiling\\__init__.py\u001b[0m in \u001b[0;36m__init__\u001b[1;34m(self, df, **kwargs)\u001b[0m\n\u001b[0;32m     67\u001b[0m \u001b[1;33m\u001b[0m\u001b[0m\n\u001b[0;32m     68\u001b[0m         self.html = to_html(sample,\n\u001b[1;32m---> 69\u001b[1;33m                             description_set)\n\u001b[0m\u001b[0;32m     70\u001b[0m \u001b[1;33m\u001b[0m\u001b[0m\n\u001b[0;32m     71\u001b[0m         \u001b[0mself\u001b[0m\u001b[1;33m.\u001b[0m\u001b[0mdescription_set\u001b[0m \u001b[1;33m=\u001b[0m \u001b[0mdescription_set\u001b[0m\u001b[1;33m\u001b[0m\u001b[1;33m\u001b[0m\u001b[0m\n",
      "\u001b[1;32mC:\\ProgramData\\Anaconda3\\lib\\site-packages\\pandas_profiling\\report.py\u001b[0m in \u001b[0;36mto_html\u001b[1;34m(sample, stats_object)\u001b[0m\n\u001b[0;32m    192\u001b[0m \u001b[1;33m\u001b[0m\u001b[0m\n\u001b[0;32m    193\u001b[0m     \u001b[1;31m# Add plot of matrix correlation\u001b[0m\u001b[1;33m\u001b[0m\u001b[1;33m\u001b[0m\u001b[1;33m\u001b[0m\u001b[0m\n\u001b[1;32m--> 194\u001b[1;33m     \u001b[0mpearson_matrix\u001b[0m \u001b[1;33m=\u001b[0m \u001b[0mplot\u001b[0m\u001b[1;33m.\u001b[0m\u001b[0mcorrelation_matrix\u001b[0m\u001b[1;33m(\u001b[0m\u001b[0mstats_object\u001b[0m\u001b[1;33m[\u001b[0m\u001b[1;34m'correlations'\u001b[0m\u001b[1;33m]\u001b[0m\u001b[1;33m[\u001b[0m\u001b[1;34m'pearson'\u001b[0m\u001b[1;33m]\u001b[0m\u001b[1;33m,\u001b[0m \u001b[1;34m'Pearson'\u001b[0m\u001b[1;33m)\u001b[0m\u001b[1;33m\u001b[0m\u001b[1;33m\u001b[0m\u001b[0m\n\u001b[0m\u001b[0;32m    195\u001b[0m     \u001b[0mspearman_matrix\u001b[0m \u001b[1;33m=\u001b[0m \u001b[0mplot\u001b[0m\u001b[1;33m.\u001b[0m\u001b[0mcorrelation_matrix\u001b[0m\u001b[1;33m(\u001b[0m\u001b[0mstats_object\u001b[0m\u001b[1;33m[\u001b[0m\u001b[1;34m'correlations'\u001b[0m\u001b[1;33m]\u001b[0m\u001b[1;33m[\u001b[0m\u001b[1;34m'spearman'\u001b[0m\u001b[1;33m]\u001b[0m\u001b[1;33m,\u001b[0m \u001b[1;34m'Spearman'\u001b[0m\u001b[1;33m)\u001b[0m\u001b[1;33m\u001b[0m\u001b[1;33m\u001b[0m\u001b[0m\n\u001b[0;32m    196\u001b[0m     correlations_html = templates.template('correlations').render(\n",
      "\u001b[1;32mC:\\ProgramData\\Anaconda3\\lib\\site-packages\\pandas_profiling\\plot.py\u001b[0m in \u001b[0;36mcorrelation_matrix\u001b[1;34m(corrdf, title, **kwargs)\u001b[0m\n\u001b[0;32m    134\u001b[0m     \u001b[0mplt\u001b[0m\u001b[1;33m.\u001b[0m\u001b[0mtitle\u001b[0m\u001b[1;33m(\u001b[0m\u001b[0mtitle\u001b[0m\u001b[1;33m,\u001b[0m \u001b[0msize\u001b[0m\u001b[1;33m=\u001b[0m\u001b[1;36m18\u001b[0m\u001b[1;33m)\u001b[0m\u001b[1;33m\u001b[0m\u001b[1;33m\u001b[0m\u001b[0m\n\u001b[0;32m    135\u001b[0m     \u001b[0mplt\u001b[0m\u001b[1;33m.\u001b[0m\u001b[0mcolorbar\u001b[0m\u001b[1;33m(\u001b[0m\u001b[0mmatrix_image\u001b[0m\u001b[1;33m)\u001b[0m\u001b[1;33m\u001b[0m\u001b[1;33m\u001b[0m\u001b[0m\n\u001b[1;32m--> 136\u001b[1;33m     \u001b[0maxes_cor\u001b[0m\u001b[1;33m.\u001b[0m\u001b[0mset_xticks\u001b[0m\u001b[1;33m(\u001b[0m\u001b[0mnp\u001b[0m\u001b[1;33m.\u001b[0m\u001b[0marange\u001b[0m\u001b[1;33m(\u001b[0m\u001b[1;36m0\u001b[0m\u001b[1;33m,\u001b[0m \u001b[0mcorrdf\u001b[0m\u001b[1;33m.\u001b[0m\u001b[0mshape\u001b[0m\u001b[1;33m[\u001b[0m\u001b[1;36m0\u001b[0m\u001b[1;33m]\u001b[0m\u001b[1;33m,\u001b[0m \u001b[0mcorrdf\u001b[0m\u001b[1;33m.\u001b[0m\u001b[0mshape\u001b[0m\u001b[1;33m[\u001b[0m\u001b[1;36m0\u001b[0m\u001b[1;33m]\u001b[0m \u001b[1;33m*\u001b[0m \u001b[1;36m1.0\u001b[0m \u001b[1;33m/\u001b[0m \u001b[0mlen\u001b[0m\u001b[1;33m(\u001b[0m\u001b[0mlabels\u001b[0m\u001b[1;33m)\u001b[0m\u001b[1;33m)\u001b[0m\u001b[1;33m)\u001b[0m\u001b[1;33m\u001b[0m\u001b[1;33m\u001b[0m\u001b[0m\n\u001b[0m\u001b[0;32m    137\u001b[0m     \u001b[0maxes_cor\u001b[0m\u001b[1;33m.\u001b[0m\u001b[0mset_yticks\u001b[0m\u001b[1;33m(\u001b[0m\u001b[0mnp\u001b[0m\u001b[1;33m.\u001b[0m\u001b[0marange\u001b[0m\u001b[1;33m(\u001b[0m\u001b[1;36m0\u001b[0m\u001b[1;33m,\u001b[0m \u001b[0mcorrdf\u001b[0m\u001b[1;33m.\u001b[0m\u001b[0mshape\u001b[0m\u001b[1;33m[\u001b[0m\u001b[1;36m1\u001b[0m\u001b[1;33m]\u001b[0m\u001b[1;33m,\u001b[0m \u001b[0mcorrdf\u001b[0m\u001b[1;33m.\u001b[0m\u001b[0mshape\u001b[0m\u001b[1;33m[\u001b[0m\u001b[1;36m1\u001b[0m\u001b[1;33m]\u001b[0m \u001b[1;33m*\u001b[0m \u001b[1;36m1.0\u001b[0m \u001b[1;33m/\u001b[0m \u001b[0mlen\u001b[0m\u001b[1;33m(\u001b[0m\u001b[0mlabels\u001b[0m\u001b[1;33m)\u001b[0m\u001b[1;33m)\u001b[0m\u001b[1;33m)\u001b[0m\u001b[1;33m\u001b[0m\u001b[1;33m\u001b[0m\u001b[0m\n\u001b[0;32m    138\u001b[0m     \u001b[0maxes_cor\u001b[0m\u001b[1;33m.\u001b[0m\u001b[0mset_xticklabels\u001b[0m\u001b[1;33m(\u001b[0m\u001b[0mlabels\u001b[0m\u001b[1;33m,\u001b[0m \u001b[0mrotation\u001b[0m\u001b[1;33m=\u001b[0m\u001b[1;36m90\u001b[0m\u001b[1;33m)\u001b[0m\u001b[1;33m\u001b[0m\u001b[1;33m\u001b[0m\u001b[0m\n",
      "\u001b[1;31mZeroDivisionError\u001b[0m: float division by zero"
     ]
    }
   ],
   "source": [
    "df = Leads\n",
    "profile = ProfileReport(df )\n",
    "\n",
    "profile.to_file(\"Leads_EDA_Report.html\")"
   ]
  },
  {
   "cell_type": "code",
   "execution_count": null,
   "metadata": {},
   "outputs": [],
   "source": [
    "df = Blog \n"
   ]
  },
  {
   "cell_type": "code",
   "execution_count": null,
   "metadata": {},
   "outputs": [],
   "source": [
    "profile2 = ProfileReport(df, title='HEVO_Data_EDA', explorative=True)"
   ]
  },
  {
   "cell_type": "code",
   "execution_count": null,
   "metadata": {},
   "outputs": [],
   "source": [
    "profile.to_notebook_iframe()"
   ]
  },
  {
   "cell_type": "code",
   "execution_count": null,
   "metadata": {},
   "outputs": [],
   "source": [
    "profile.to_file(\"your_report.html\")"
   ]
  },
  {
   "cell_type": "code",
   "execution_count": null,
   "metadata": {},
   "outputs": [],
   "source": [
    "profile = ProfileReport(large_dataset, minimal=True)\n",
    "profile.to_file(\"output.html\")"
   ]
  }
 ],
 "metadata": {
  "kernelspec": {
   "display_name": "Python 3",
   "language": "python",
   "name": "python3"
  },
  "language_info": {
   "codemirror_mode": {
    "name": "ipython",
    "version": 3
   },
   "file_extension": ".py",
   "mimetype": "text/x-python",
   "name": "python",
   "nbconvert_exporter": "python",
   "pygments_lexer": "ipython3",
   "version": "3.7.4"
  }
 },
 "nbformat": 4,
 "nbformat_minor": 2
}
